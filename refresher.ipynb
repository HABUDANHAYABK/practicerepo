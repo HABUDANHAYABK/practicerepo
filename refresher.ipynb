{
 "cells": [
  {
   "cell_type": "markdown",
   "metadata": {},
   "source": [
    "# Refresher file\n",
    "\n",
    "_I created this file to practice all the skills I have learned in Arewa Data Science Fellowship before we start the machine learning_"
   ]
  },
  {
   "cell_type": "markdown",
   "metadata": {},
   "source": [
    "## Dictionaries"
   ]
  },
  {
   "cell_type": "code",
   "execution_count": 1,
   "metadata": {},
   "outputs": [],
   "source": [
    "pupil = {'name': 'adam','school': 'al-manar academy', 'class': 'primary 4'}"
   ]
  },
  {
   "cell_type": "code",
   "execution_count": 3,
   "metadata": {},
   "outputs": [],
   "source": [
    "pupil['class'] = 'primary 5'"
   ]
  },
  {
   "cell_type": "code",
   "execution_count": 4,
   "metadata": {},
   "outputs": [
    {
     "name": "stdout",
     "output_type": "stream",
     "text": [
      "Adam belongs to primary 5 in Al-manar Academy\n"
     ]
    }
   ],
   "source": [
    "adam_class = pupil['class']\n",
    "print(f\"Adam belongs to {adam_class} in Al-manar Academy\")"
   ]
  },
  {
   "cell_type": "code",
   "execution_count": 5,
   "metadata": {},
   "outputs": [],
   "source": [
    "pupil['best subject'] = 'english'\n",
    "pupil['best teacher'] = 'usman'"
   ]
  },
  {
   "cell_type": "code",
   "execution_count": 6,
   "metadata": {},
   "outputs": [
    {
     "name": "stdout",
     "output_type": "stream",
     "text": [
      "{'name': 'adam', 'school': 'al-manar academy', 'class': 'primary 5', 'best subject': 'english', 'best teacher': 'usman'}\n"
     ]
    }
   ],
   "source": [
    "print(pupil)"
   ]
  },
  {
   "cell_type": "code",
   "execution_count": 8,
   "metadata": {},
   "outputs": [
    {
     "name": "stdout",
     "output_type": "stream",
     "text": [
      "Adam loves English\n"
     ]
    }
   ],
   "source": [
    "if pupil['best teacher'] == 'usman' and pupil['best subject'] == 'english':\n",
    "    print(f\"{pupil['name'].title()} loves English\")\n",
    "else:\n",
    "    print(f\"{pupil['name'].title()} doesn't love English\")"
   ]
  },
  {
   "cell_type": "code",
   "execution_count": 23,
   "metadata": {},
   "outputs": [],
   "source": [
    "favourite_language ={\n",
    "    'abubakar': 'python',\n",
    "    'sadiq': 'html',\n",
    "    'john' : 'c++',\n",
    "    'daniel': 'c'\n",
    "    }"
   ]
  },
  {
   "cell_type": "code",
   "execution_count": 10,
   "metadata": {},
   "outputs": [
    {
     "name": "stdout",
     "output_type": "stream",
     "text": [
      "Abubakar's favourite programming language is python\n"
     ]
    }
   ],
   "source": [
    "language = favourite_language['abubakar']\n",
    "print(f\"Abubakar's favourite programming language is {language}\")"
   ]
  },
  {
   "cell_type": "code",
   "execution_count": 18,
   "metadata": {},
   "outputs": [
    {
     "name": "stdout",
     "output_type": "stream",
     "text": [
      "javascript\n"
     ]
    }
   ],
   "source": [
    "usman_language = favourite_language.get('usman')\n",
    "print(usman_language)\n",
    "favourite_language['usman'] = 'javascript'"
   ]
  },
  {
   "cell_type": "code",
   "execution_count": 14,
   "metadata": {},
   "outputs": [
    {
     "name": "stdout",
     "output_type": "stream",
     "text": [
      "usman is not added in the dictionary\n",
      "{'abubakar': 'python', 'sadiq': 'html lan', 'john': 'c++', 'daniel': 'c'}\n"
     ]
    }
   ],
   "source": [
    "print(usman_language)\n",
    "print(favourite_language)"
   ]
  },
  {
   "cell_type": "code",
   "execution_count": 15,
   "metadata": {},
   "outputs": [],
   "source": [
    "favourite_language['usman'] = 'javascript'"
   ]
  },
  {
   "cell_type": "code",
   "execution_count": 16,
   "metadata": {},
   "outputs": [
    {
     "name": "stdout",
     "output_type": "stream",
     "text": [
      "{'abubakar': 'python', 'sadiq': 'html lan', 'john': 'c++', 'daniel': 'c', 'usman': 'javascript'}\n"
     ]
    }
   ],
   "source": [
    "print(favourite_language)"
   ]
  },
  {
   "cell_type": "code",
   "execution_count": 19,
   "metadata": {},
   "outputs": [
    {
     "name": "stdout",
     "output_type": "stream",
     "text": [
      "javascript\n"
     ]
    }
   ],
   "source": [
    "print(usman_language)"
   ]
  },
  {
   "cell_type": "markdown",
   "metadata": {},
   "source": [
    "## looping through all the key values pairs"
   ]
  },
  {
   "cell_type": "code",
   "execution_count": 24,
   "metadata": {},
   "outputs": [
    {
     "name": "stdout",
     "output_type": "stream",
     "text": [
      "\n",
      " Key: abubakar\n",
      "\n",
      " Value: python\n",
      "\n",
      " Key: sadiq\n",
      "\n",
      " Value: html\n",
      "\n",
      " Key: john\n",
      "\n",
      " Value: c++\n",
      "\n",
      " Key: daniel\n",
      "\n",
      " Value: c\n"
     ]
    }
   ],
   "source": [
    "for key, values in favourite_language.items():\n",
    "    print(f\"\\n Key: {key}\")\n",
    "    print(f\"\\n Value: {values}\")"
   ]
  },
  {
   "cell_type": "code",
   "execution_count": 26,
   "metadata": {},
   "outputs": [
    {
     "name": "stdout",
     "output_type": "stream",
     "text": [
      "Abubakar\n",
      "Sadiq\n",
      "John\n",
      "Daniel\n"
     ]
    }
   ],
   "source": [
    "for name in favourite_language.keys():\n",
    "    print(name.title())"
   ]
  },
  {
   "cell_type": "code",
   "execution_count": 27,
   "metadata": {},
   "outputs": [
    {
     "name": "stdout",
     "output_type": "stream",
     "text": [
      "Abubakar, thank you for taking the poll.\n",
      "Sadiq, thank you for taking the poll.\n",
      "John, thank you for taking the poll.\n",
      "Daniel, thank you for taking the poll.\n"
     ]
    }
   ],
   "source": [
    "for name in favourite_language.keys():\n",
    "    print(f\"{name.title()}, thank you for taking the poll.\")"
   ]
  },
  {
   "cell_type": "code",
   "execution_count": 29,
   "metadata": {},
   "outputs": [
    {
     "name": "stdout",
     "output_type": "stream",
     "text": [
      "The following are the programming languages I have mentioned: \n",
      "Python\n",
      "Html\n",
      "C++\n",
      "C\n"
     ]
    }
   ],
   "source": [
    "print(\"The following are the programming languages I have mentioned: \")\n",
    "for languages in favourite_language.values():\n",
    "    print(languages.title()) "
   ]
  },
  {
   "cell_type": "markdown",
   "metadata": {},
   "source": [
    "## Nesting\n",
    "### A list of dictionaries"
   ]
  },
  {
   "cell_type": "code",
   "execution_count": 33,
   "metadata": {},
   "outputs": [],
   "source": [
    "rmd = {'jarsie': 'white', 'champion': 14}\n",
    "barca = {'jarsie': 'red', 'champion': 5}\n",
    "atm = {'jarsie': 'red', 'champion': 0}\n",
    "man_u = {'jarsie': 'red', 'champion': 4}\n",
    "teams =[rmd, barca, atm, man_u]"
   ]
  },
  {
   "cell_type": "code",
   "execution_count": 34,
   "metadata": {},
   "outputs": [
    {
     "name": "stdout",
     "output_type": "stream",
     "text": [
      "{'jarsie': 'white', 'champion': 14}\n",
      "{'jarsie': 'red', 'champion': 5}\n",
      "{'jarsie': 'red', 'champion': 0}\n",
      "{'jarsie': 'red', 'champion': 4}\n"
     ]
    }
   ],
   "source": [
    "for team in teams:\n",
    "    print(team)"
   ]
  },
  {
   "cell_type": "code",
   "execution_count": 2,
   "metadata": {},
   "outputs": [
    {
     "name": "stdout",
     "output_type": "stream",
     "text": [
      "You ordered a thick-crust pizza with the following toppings: \n",
      "mushroom\n",
      "extra cheese\n"
     ]
    }
   ],
   "source": [
    "pizza = {\n",
    "    'crust': 'thick',\n",
    "    'toppings': ['mushroom', 'extra cheese']\n",
    "    }\n",
    "print(f\"You ordered a {pizza['crust']}-crust pizza \"\n",
    "      \"with the following toppings: \")\n",
    "for topping in pizza['toppings']:\n",
    "    print(topping)"
   ]
  },
  {
   "cell_type": "code",
   "execution_count": 10,
   "metadata": {},
   "outputs": [
    {
     "name": "stdout",
     "output_type": "stream",
     "text": [
      "\n",
      "Habu's favourite languages are:\n",
      "\tPython\n",
      "\tJavascript\n",
      "\n",
      "Umar's favourite languages are:\n",
      "\tC++\n",
      "\tHtml\n",
      "\n",
      "Nani's favourite languages is:\n",
      "\tFotran\n"
     ]
    }
   ],
   "source": [
    "favourite_language = {\n",
    "    'habu': ['python', 'javascript'],\n",
    "    'umar': ['c++', 'html'],\n",
    "    'nani': ['fotran']\n",
    "    }\n",
    "for name, languages in favourite_language.items():\n",
    "    if name == 'nani':\n",
    "        print(f\"\\n{name.title()}'s favourite languages is:\")\n",
    "    else:\n",
    "        print(f\"\\n{name.title()}'s favourite languages are:\")\n",
    "         \n",
    "    for language in languages:\n",
    "        print(f\"\\t{language.title()}\")"
   ]
  },
  {
   "cell_type": "markdown",
   "metadata": {},
   "source": [
    "### dictionary in a dictionary"
   ]
  },
  {
   "cell_type": "code",
   "execution_count": 14,
   "metadata": {},
   "outputs": [
    {
     "name": "stdout",
     "output_type": "stream",
     "text": [
      "Username: Aeinstein\n",
      "\tFull name: Albert Aeinstein\n",
      "\tLocation: Princeton\n",
      "Username: Mcurie\n",
      "\tFull name: Marry Curie\n",
      "\tLocation: Paris\n"
     ]
    }
   ],
   "source": [
    "users = {\n",
    "    'aeinstein': {\n",
    "        'first': 'albert',\n",
    "        'last': 'aeinstein',\n",
    "        'location': 'princeton',\n",
    "        },\n",
    "    'mcurie': {\n",
    "        'first': 'marry',\n",
    "        'last': 'curie',\n",
    "        'location': 'paris',\n",
    "        },\n",
    "    }\n",
    "\n",
    "for username, user_info in users.items():\n",
    "    print(f\"Username: {username.title()}\")\n",
    "    full_name = f\"{user_info['first']} {user_info['last']}\"\n",
    "    location = user_info['location']\n",
    "\n",
    "    print(f\"\\tFull name: {full_name.title()}\")\n",
    "    print(f\"\\tLocation: {location.title()}\")"
   ]
  },
  {
   "cell_type": "markdown",
   "metadata": {},
   "source": [
    "## Function"
   ]
  },
  {
   "cell_type": "code",
   "execution_count": 1,
   "metadata": {},
   "outputs": [],
   "source": [
    "def greet_user():\n",
    "    print('Hello, user!')"
   ]
  },
  {
   "cell_type": "code",
   "execution_count": 2,
   "metadata": {},
   "outputs": [
    {
     "name": "stdout",
     "output_type": "stream",
     "text": [
      "Hello, user!\n"
     ]
    }
   ],
   "source": [
    "greet_user()"
   ]
  },
  {
   "cell_type": "code",
   "execution_count": 3,
   "metadata": {},
   "outputs": [],
   "source": [
    "def greet_user(username):\n",
    "    \"\"\"display simple greeting\"\"\"\n",
    "    print(f\"Hello, {username.title()}!\")"
   ]
  },
  {
   "cell_type": "code",
   "execution_count": 4,
   "metadata": {},
   "outputs": [
    {
     "name": "stdout",
     "output_type": "stream",
     "text": [
      "Hello, Abubakar!\n"
     ]
    }
   ],
   "source": [
    "greet_user('abubakar')"
   ]
  },
  {
   "cell_type": "code",
   "execution_count": 38,
   "metadata": {},
   "outputs": [],
   "source": [
    "def student_info(name, crs_of_study):\n",
    "    \"\"\"Display the student information\"\"\"\n",
    "    print(\"My name is\" + \" \" + name + \".\")\n",
    "    print(\"and I am studying\" + \" \"+ crs_of_study + \" \" +\"at university.\")"
   ]
  },
  {
   "cell_type": "code",
   "execution_count": 39,
   "metadata": {},
   "outputs": [
    {
     "name": "stdout",
     "output_type": "stream",
     "text": [
      "My name is abubakar.\n",
      "and I am studying civil engineering at university.\n"
     ]
    }
   ],
   "source": [
    "student_info(crs_of_study='civil engineering', name='abubakar')"
   ]
  },
  {
   "cell_type": "code",
   "execution_count": 5,
   "metadata": {},
   "outputs": [],
   "source": [
    "def greet_user(names):\n",
    "    \"\"\"display simple greeting\"\"\"\n",
    "    for name in names:\n",
    "        msg = 'hello, ' + name.title() +\"!\"\n",
    "        print(msg)\n",
    "          "
   ]
  },
  {
   "cell_type": "code",
   "execution_count": 6,
   "metadata": {},
   "outputs": [],
   "source": [
    "users = ['abubakar', 'amina', 'sadiya']"
   ]
  },
  {
   "cell_type": "code",
   "execution_count": 7,
   "metadata": {},
   "outputs": [
    {
     "name": "stdout",
     "output_type": "stream",
     "text": [
      "hello, Abubakar!\n",
      "hello, Amina!\n",
      "hello, Sadiya!\n"
     ]
    }
   ],
   "source": [
    "greet_user(users)"
   ]
  },
  {
   "cell_type": "code",
   "execution_count": 8,
   "metadata": {},
   "outputs": [],
   "source": [
    "def make_pizza(*toppings):\n",
    "    \"\"\"print the list of toppings that have been requested\"\"\"\n",
    "    print(toppings)"
   ]
  },
  {
   "cell_type": "code",
   "execution_count": 9,
   "metadata": {},
   "outputs": [
    {
     "name": "stdout",
     "output_type": "stream",
     "text": [
      "('pepperoni',)\n",
      "('mushroom', 'extra cheese', 'green peppers')\n"
     ]
    }
   ],
   "source": [
    "make_pizza(\"pepperoni\")\n",
    "make_pizza('mushroom', 'extra cheese', 'green peppers')"
   ]
  },
  {
   "cell_type": "code",
   "execution_count": 10,
   "metadata": {},
   "outputs": [
    {
     "name": "stdout",
     "output_type": "stream",
     "text": [
      "\n",
      "Making a pizza with the following topping\n",
      "-mushroom\n",
      "-extra cheese\n",
      "-green peppers\n"
     ]
    }
   ],
   "source": [
    "def make_pizza(*toppings):\n",
    "    \"\"\"summarize the pizza we are about to make\"\"\"\n",
    "    print(\"\\nMaking a pizza with the following topping\")\n",
    "    for topping in toppings:\n",
    "        print(\"-\" + topping)\n",
    "make_pizza('mushroom', 'extra cheese', 'green peppers')"
   ]
  },
  {
   "cell_type": "code",
   "execution_count": 11,
   "metadata": {},
   "outputs": [
    {
     "name": "stdout",
     "output_type": "stream",
     "text": [
      "\n",
      "Making a 16- inch pizza with the following toppings:\n",
      "-pepperoni\n",
      "\n",
      "Making a 12- inch pizza with the following toppings:\n",
      "-mushroom\n",
      "-extra cheese\n",
      "-green peppers\n"
     ]
    }
   ],
   "source": [
    "import my_module\n",
    "my_module.make_piza(16, 'pepperoni')\n",
    "my_module.make_piza(12, 'mushroom', 'extra cheese', 'green peppers')"
   ]
  },
  {
   "cell_type": "code",
   "execution_count": null,
   "metadata": {},
   "outputs": [],
   "source": []
  }
 ],
 "metadata": {
  "kernelspec": {
   "display_name": "base",
   "language": "python",
   "name": "python3"
  },
  "language_info": {
   "codemirror_mode": {
    "name": "ipython",
    "version": 3
   },
   "file_extension": ".py",
   "mimetype": "text/x-python",
   "name": "python",
   "nbconvert_exporter": "python",
   "pygments_lexer": "ipython3",
   "version": "3.12.3"
  }
 },
 "nbformat": 4,
 "nbformat_minor": 2
}

{
 "cells": [
  {
   "cell_type": "markdown",
   "metadata": {},
   "source": [
    "# Refresher file\n",
    "\n",
    "_I created this file to practice all the skills I have learned in Arewa Data Science Fellowship before we start the machine learning_"
   ]
  },
  {
   "cell_type": "markdown",
   "metadata": {},
   "source": [
    "## Dictionaries"
   ]
  },
  {
   "cell_type": "code",
   "execution_count": 1,
   "metadata": {},
   "outputs": [],
   "source": [
    "pupil = {'name': 'adam','school': 'al-manar academy', 'class': 'primary 4'}"
   ]
  },
  {
   "cell_type": "code",
   "execution_count": 3,
   "metadata": {},
   "outputs": [],
   "source": [
    "pupil['class'] = 'primary 5'"
   ]
  },
  {
   "cell_type": "code",
   "execution_count": 4,
   "metadata": {},
   "outputs": [
    {
     "name": "stdout",
     "output_type": "stream",
     "text": [
      "Adam belongs to primary 5 in Al-manar Academy\n"
     ]
    }
   ],
   "source": [
    "adam_class = pupil['class']\n",
    "print(f\"Adam belongs to {adam_class} in Al-manar Academy\")"
   ]
  },
  {
   "cell_type": "code",
   "execution_count": 5,
   "metadata": {},
   "outputs": [],
   "source": [
    "pupil['best subject'] = 'english'\n",
    "pupil['best teacher'] = 'usman'"
   ]
  },
  {
   "cell_type": "code",
   "execution_count": 6,
   "metadata": {},
   "outputs": [
    {
     "name": "stdout",
     "output_type": "stream",
     "text": [
      "{'name': 'adam', 'school': 'al-manar academy', 'class': 'primary 5', 'best subject': 'english', 'best teacher': 'usman'}\n"
     ]
    }
   ],
   "source": [
    "print(pupil)"
   ]
  },
  {
   "cell_type": "code",
   "execution_count": 8,
   "metadata": {},
   "outputs": [
    {
     "name": "stdout",
     "output_type": "stream",
     "text": [
      "Adam loves English\n"
     ]
    }
   ],
   "source": [
    "if pupil['best teacher'] == 'usman' and pupil['best subject'] == 'english':\n",
    "    print(f\"{pupil['name'].title()} loves English\")\n",
    "else:\n",
    "    print(f\"{pupil['name'].title()} doesn't love English\")"
   ]
  },
  {
   "cell_type": "code",
   "execution_count": 23,
   "metadata": {},
   "outputs": [],
   "source": [
    "favourite_language ={\n",
    "    'abubakar': 'python',\n",
    "    'sadiq': 'html',\n",
    "    'john' : 'c++',\n",
    "    'daniel': 'c'\n",
    "    }"
   ]
  },
  {
   "cell_type": "code",
   "execution_count": 10,
   "metadata": {},
   "outputs": [
    {
     "name": "stdout",
     "output_type": "stream",
     "text": [
      "Abubakar's favourite programming language is python\n"
     ]
    }
   ],
   "source": [
    "language = favourite_language['abubakar']\n",
    "print(f\"Abubakar's favourite programming language is {language}\")"
   ]
  },
  {
   "cell_type": "code",
   "execution_count": 18,
   "metadata": {},
   "outputs": [
    {
     "name": "stdout",
     "output_type": "stream",
     "text": [
      "javascript\n"
     ]
    }
   ],
   "source": [
    "usman_language = favourite_language.get('usman')\n",
    "print(usman_language)\n",
    "favourite_language['usman'] = 'javascript'"
   ]
  },
  {
   "cell_type": "code",
   "execution_count": 14,
   "metadata": {},
   "outputs": [
    {
     "name": "stdout",
     "output_type": "stream",
     "text": [
      "usman is not added in the dictionary\n",
      "{'abubakar': 'python', 'sadiq': 'html lan', 'john': 'c++', 'daniel': 'c'}\n"
     ]
    }
   ],
   "source": [
    "print(usman_language)\n",
    "print(favourite_language)"
   ]
  },
  {
   "cell_type": "code",
   "execution_count": 15,
   "metadata": {},
   "outputs": [],
   "source": [
    "favourite_language['usman'] = 'javascript'"
   ]
  },
  {
   "cell_type": "code",
   "execution_count": 16,
   "metadata": {},
   "outputs": [
    {
     "name": "stdout",
     "output_type": "stream",
     "text": [
      "{'abubakar': 'python', 'sadiq': 'html lan', 'john': 'c++', 'daniel': 'c', 'usman': 'javascript'}\n"
     ]
    }
   ],
   "source": [
    "print(favourite_language)"
   ]
  },
  {
   "cell_type": "code",
   "execution_count": 19,
   "metadata": {},
   "outputs": [
    {
     "name": "stdout",
     "output_type": "stream",
     "text": [
      "javascript\n"
     ]
    }
   ],
   "source": [
    "print(usman_language)"
   ]
  },
  {
   "cell_type": "markdown",
   "metadata": {},
   "source": [
    "## looping through all the key values pairs"
   ]
  },
  {
   "cell_type": "code",
   "execution_count": 24,
   "metadata": {},
   "outputs": [
    {
     "name": "stdout",
     "output_type": "stream",
     "text": [
      "\n",
      " Key: abubakar\n",
      "\n",
      " Value: python\n",
      "\n",
      " Key: sadiq\n",
      "\n",
      " Value: html\n",
      "\n",
      " Key: john\n",
      "\n",
      " Value: c++\n",
      "\n",
      " Key: daniel\n",
      "\n",
      " Value: c\n"
     ]
    }
   ],
   "source": [
    "for key, values in favourite_language.items():\n",
    "    print(f\"\\n Key: {key}\")\n",
    "    print(f\"\\n Value: {values}\")"
   ]
  },
  {
   "cell_type": "code",
   "execution_count": 26,
   "metadata": {},
   "outputs": [
    {
     "name": "stdout",
     "output_type": "stream",
     "text": [
      "Abubakar\n",
      "Sadiq\n",
      "John\n",
      "Daniel\n"
     ]
    }
   ],
   "source": [
    "for name in favourite_language.keys():\n",
    "    print(name.title())"
   ]
  },
  {
   "cell_type": "code",
   "execution_count": 27,
   "metadata": {},
   "outputs": [
    {
     "name": "stdout",
     "output_type": "stream",
     "text": [
      "Abubakar, thank you for taking the poll.\n",
      "Sadiq, thank you for taking the poll.\n",
      "John, thank you for taking the poll.\n",
      "Daniel, thank you for taking the poll.\n"
     ]
    }
   ],
   "source": [
    "for name in favourite_language.keys():\n",
    "    print(f\"{name.title()}, thank you for taking the poll.\")"
   ]
  },
  {
   "cell_type": "code",
   "execution_count": 29,
   "metadata": {},
   "outputs": [
    {
     "name": "stdout",
     "output_type": "stream",
     "text": [
      "The following are the programming languages I have mentioned: \n",
      "Python\n",
      "Html\n",
      "C++\n",
      "C\n"
     ]
    }
   ],
   "source": [
    "print(\"The following are the programming languages I have mentioned: \")\n",
    "for languages in favourite_language.values():\n",
    "    print(languages.title()) "
   ]
  },
  {
   "cell_type": "markdown",
   "metadata": {},
   "source": [
    "## Nesting\n",
    "### A list of dictionaries"
   ]
  },
  {
   "cell_type": "code",
   "execution_count": 33,
   "metadata": {},
   "outputs": [],
   "source": [
    "rmd = {'jarsie': 'white', 'champion': 14}\n",
    "barca = {'jarsie': 'red', 'champion': 5}\n",
    "atm = {'jarsie': 'red', 'champion': 0}\n",
    "man_u = {'jarsie': 'red', 'champion': 4}\n",
    "teams =[rmd, barca, atm, man_u]"
   ]
  },
  {
   "cell_type": "code",
   "execution_count": 34,
   "metadata": {},
   "outputs": [
    {
     "name": "stdout",
     "output_type": "stream",
     "text": [
      "{'jarsie': 'white', 'champion': 14}\n",
      "{'jarsie': 'red', 'champion': 5}\n",
      "{'jarsie': 'red', 'champion': 0}\n",
      "{'jarsie': 'red', 'champion': 4}\n"
     ]
    }
   ],
   "source": [
    "for team in teams:\n",
    "    print(team)"
   ]
  },
  {
   "cell_type": "code",
   "execution_count": null,
   "metadata": {},
   "outputs": [],
   "source": []
  }
 ],
 "metadata": {
  "kernelspec": {
   "display_name": "base",
   "language": "python",
   "name": "python3"
  },
  "language_info": {
   "codemirror_mode": {
    "name": "ipython",
    "version": 3
   },
   "file_extension": ".py",
   "mimetype": "text/x-python",
   "name": "python",
   "nbconvert_exporter": "python",
   "pygments_lexer": "ipython3",
   "version": "3.12.3"
  }
 },
 "nbformat": 4,
 "nbformat_minor": 2
}

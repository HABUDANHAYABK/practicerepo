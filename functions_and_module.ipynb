{
 "cells": [
  {
   "cell_type": "markdown",
   "metadata": {},
   "source": [
    "# Practice file"
   ]
  },
  {
   "cell_type": "code",
   "execution_count": 1,
   "metadata": {},
   "outputs": [],
   "source": [
    "def greet_user():\n",
    "    \"\"\"Display simple greetings.\"\"\"\n",
    "    print(\"Hello, User!\")"
   ]
  },
  {
   "cell_type": "code",
   "execution_count": 2,
   "metadata": {},
   "outputs": [
    {
     "name": "stdout",
     "output_type": "stream",
     "text": [
      "Hello, User!\n"
     ]
    }
   ],
   "source": [
    "greet_user()"
   ]
  },
  {
   "cell_type": "code",
   "execution_count": 3,
   "metadata": {},
   "outputs": [
    {
     "name": "stdout",
     "output_type": "stream",
     "text": [
      "Good day, Mr. Abubakar Danhaya!\n"
     ]
    }
   ],
   "source": [
    "def my_bio(first_name, last_name):\n",
    "    full_name = f\"{first_name} {last_name}\"\n",
    "    return full_name.title()\n",
    "my_name = my_bio('abubakar', 'danhaya')\n",
    "print(f\"Good day, Mr. {my_name}!\")\n"
   ]
  },
  {
   "cell_type": "code",
   "execution_count": 5,
   "metadata": {},
   "outputs": [
    {
     "name": "stdout",
     "output_type": "stream",
     "text": [
      "Abubakar Muhammad Danhaya\n"
     ]
    }
   ],
   "source": [
    "def my_bio(first_name, last_name, middle_name=''):\n",
    "    \"\"\"Return my full name\"\"\"\n",
    "    if middle_name:\n",
    "        full_name = f\"{first_name} {middle_name} {last_name}\"\n",
    "        return full_name.title()\n",
    "    else:\n",
    "        full_name = f\"{first_name} {last_name}\"\n",
    "        return full_name.title()\n",
    "my_name = my_bio('abubakar', 'danhaya', 'muhammad')\n",
    "print(my_name)\n"
   ]
  },
  {
   "cell_type": "markdown",
   "metadata": {},
   "source": [
    "# build a dictionary"
   ]
  },
  {
   "cell_type": "code",
   "execution_count": 6,
   "metadata": {},
   "outputs": [
    {
     "name": "stdout",
     "output_type": "stream",
     "text": [
      "{'first': 'abubakar', 'last': 'muhammad', 'age': 27}\n"
     ]
    }
   ],
   "source": [
    "def build_mydict(first_name, last_name, age=None):\n",
    "    \"\"\"build my dictionary of informations.\"\"\"\n",
    "    my_dict = {'first': first_name, 'last': last_name}\n",
    "    if age:\n",
    "        my_dict['age'] = age\n",
    "    return my_dict\n",
    "my_info = build_mydict('abubakar', 'muhammad', 27)\n",
    "print(my_info)"
   ]
  },
  {
   "cell_type": "markdown",
   "metadata": {},
   "source": [
    "# using while loop in a function"
   ]
  },
  {
   "cell_type": "code",
   "execution_count": 7,
   "metadata": {},
   "outputs": [
    {
     "name": "stdout",
     "output_type": "stream",
     "text": [
      "\n",
      "Enter your name\n",
      "Enter 'q' any time to quit\n",
      "\n",
      "Enter your name\n",
      "Enter 'q' any time to quit\n",
      "\n",
      "Enter your name\n",
      "Enter 'q' any time to quit\n",
      "\n",
      "Enter your name\n",
      "Enter 'q' any time to quit\n",
      "\n",
      " Hello, Q Ibrahim\n"
     ]
    }
   ],
   "source": [
    "def get_formatted_name(first_name, last_name):\n",
    "    \"\"\"Return full name neatly formatted.\"\"\"\n",
    "    full_name = f\"{first_name} {last_name}\"\n",
    "    return full_name.title()\n",
    "while True:\n",
    "    print(\"\\nEnter your name\")\n",
    "    print(\"Enter 'q' any time to quit\")\n",
    "    frst_name = input(\"Enter your first name\")\n",
    "    if frst_name == 'q':\n",
    "        break\n",
    "    lst_name = input(\"Enter your last name\")\n",
    "    if lst_name == 'q':\n",
    "        break\n",
    "formatted_name = get_formatted_name(frst_name, lst_name)\n",
    "print(f\"\\n Hello, {formatted_name}\")\n",
    "\n"
   ]
  },
  {
   "cell_type": "markdown",
   "metadata": {},
   "source": [
    "# passing a list"
   ]
  },
  {
   "cell_type": "code",
   "execution_count": 8,
   "metadata": {},
   "outputs": [
    {
     "name": "stdout",
     "output_type": "stream",
     "text": [
      "hello, Amina Umar!\n",
      "hello, Muhammad Isah!\n",
      "hello, John Mike!\n",
      "hello, Daniel Khan!\n"
     ]
    }
   ],
   "source": [
    "def greet_user(names):\n",
    "    \"\"\"dispaly simple greeting.\"\"\"\n",
    "    for name in names:\n",
    "        msg = f\"hello, {name}!\"\n",
    "        print(msg)\n",
    "usernames = ['Amina Umar', 'Muhammad Isah', 'John Mike', 'Daniel Khan']\n",
    "greet_user(usernames)"
   ]
  },
  {
   "cell_type": "markdown",
   "metadata": {},
   "source": [
    "# Modifying a list "
   ]
  },
  {
   "cell_type": "code",
   "execution_count": 12,
   "metadata": {},
   "outputs": [],
   "source": [
    "unprinted_design = ['phone case', 'robot pendant', 'dodecahedron']\n",
    "completed_models = []"
   ]
  },
  {
   "cell_type": "code",
   "execution_count": 15,
   "metadata": {},
   "outputs": [
    {
     "name": "stdout",
     "output_type": "stream",
     "text": [
      "printing models: dodecahedron\n",
      "printing models: robot pendant\n",
      "printing models: phone case\n",
      "\n",
      "The following are the completed models:\n",
      "dodecahedron\n",
      "robot pendant\n",
      "phone case\n"
     ]
    }
   ],
   "source": [
    "def printing_models(unprinted_design, completed_models):\n",
    "    \"\"\" \n",
    "    Simulate printing each design, until none are left.\n",
    "    Move each design to completed_models after printing.\n",
    "    \"\"\"\n",
    "    while unprinted_design:\n",
    "        current_models = unprinted_design.pop()\n",
    "        print(f\"printing models: {current_models}\")\n",
    "        completed_models.append(current_models)\n",
    "\n",
    "def show_completed_model(completed_model):\n",
    "    print(\"\\nThe following are the completed models:\")\n",
    "    for completed_model in completed_models:\n",
    "       print(completed_model)\n",
    "\n",
    "printing_models(unprinted_design, completed_models)\n",
    "show_completed_model(completed_models)\n",
    "unprinted_design = ['phone case', 'robot pendant', 'dodecahedron']\n",
    "completed_models = []"
   ]
  },
  {
   "cell_type": "markdown",
   "metadata": {},
   "source": [
    "# Passing an arbitrary number of arguments"
   ]
  },
  {
   "cell_type": "code",
   "execution_count": 16,
   "metadata": {},
   "outputs": [
    {
     "name": "stdout",
     "output_type": "stream",
     "text": [
      "('peperoni',)\n",
      "('onion', 'peperoni')\n"
     ]
    }
   ],
   "source": [
    "def make_pizza(*toppings):\n",
    "    \"\"\"Printing the list of toppings requested.\"\"\"\n",
    "    print(toppings)\n",
    "make_pizza('peperoni')\n",
    "make_pizza('onion', 'peperoni') \n"
   ]
  },
  {
   "cell_type": "code",
   "execution_count": 19,
   "metadata": {},
   "outputs": [
    {
     "name": "stdout",
     "output_type": "stream",
     "text": [
      "\n",
      "The following are the ingredient used in making a pizza:\n",
      " -peperoni\n",
      "\n",
      "The following are the ingredient used in making a pizza:\n",
      " -onion\n",
      " -peperonia\n",
      " -green beans\n"
     ]
    }
   ],
   "source": [
    "def make_pizza(*toppings):\n",
    "    \"\"\"Summarize the pizza we are about to make\"\"\"\n",
    "    print(f\"\\nThe following are the ingredient used in making a pizza:\")\n",
    "    for topping in toppings:\n",
    "        print(f\" -{topping}\")\n",
    "make_pizza('peperoni')\n",
    "make_pizza('onion', 'peperonia', 'green beans')"
   ]
  },
  {
   "cell_type": "code",
   "execution_count": null,
   "metadata": {},
   "outputs": [],
   "source": []
  }
 ],
 "metadata": {
  "kernelspec": {
   "display_name": "base",
   "language": "python",
   "name": "python3"
  },
  "language_info": {
   "codemirror_mode": {
    "name": "ipython",
    "version": 3
   },
   "file_extension": ".py",
   "mimetype": "text/x-python",
   "name": "python",
   "nbconvert_exporter": "python",
   "pygments_lexer": "ipython3",
   "version": "3.12.3"
  }
 },
 "nbformat": 4,
 "nbformat_minor": 2
}

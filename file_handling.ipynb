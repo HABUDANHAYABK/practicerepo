{
 "cells": [
  {
   "cell_type": "markdown",
   "metadata": {},
   "source": [
    "# Reading from a file"
   ]
  },
  {
   "cell_type": "code",
   "execution_count": 1,
   "metadata": {},
   "outputs": [
    {
     "name": "stdout",
     "output_type": "stream",
     "text": [
      "3.1415926535\n",
      "  8979323846\n",
      "  2643383279\n"
     ]
    }
   ],
   "source": [
    "from pathlib import Path\n",
    "path = Path(\"pi_digits.txt\")\n",
    "contents = path.read_text()\n",
    "print(contents)"
   ]
  },
  {
   "cell_type": "markdown",
   "metadata": {},
   "source": [
    "To remove empty string in read_text() method"
   ]
  },
  {
   "cell_type": "code",
   "execution_count": 2,
   "metadata": {},
   "outputs": [
    {
     "name": "stdout",
     "output_type": "stream",
     "text": [
      "3.1415926535\n",
      "  8979323846\n",
      "  2643383279\n"
     ]
    }
   ],
   "source": [
    "from pathlib import Path\n",
    "path = Path(\"pi_digits.txt\")\n",
    "contents = path.read_text()\n",
    "contents = contents.rstrip()\n",
    "print(contents)"
   ]
  },
  {
   "cell_type": "code",
   "execution_count": 3,
   "metadata": {},
   "outputs": [
    {
     "name": "stdout",
     "output_type": "stream",
     "text": [
      "3.1415926535\n",
      "  8979323846\n",
      "  2643383279\n"
     ]
    }
   ],
   "source": [
    "path = Path(\"pi_digits.txt\")\n",
    "contents = path.read_text().rstrip()\n",
    "print(contents)"
   ]
  },
  {
   "cell_type": "code",
   "execution_count": null,
   "metadata": {},
   "outputs": [],
   "source": [
    "## Joining the two methods together together is called chaining"
   ]
  },
  {
   "cell_type": "code",
   "execution_count": 7,
   "metadata": {},
   "outputs": [
    {
     "name": "stdout",
     "output_type": "stream",
     "text": [
      "3.1415926535\n",
      "  8979323846\n",
      "  2643383279\n"
     ]
    }
   ],
   "source": [
    "from pathlib import Path\n",
    "path = Path(r\"C:/users/danhaya/arewads/practicerepo/pi_digits.txt\")\n",
    "contents = path.read_text().rstrip()\n",
    "print(contents)"
   ]
  },
  {
   "cell_type": "markdown",
   "metadata": {},
   "source": [
    "## Accessing file line by line"
   ]
  },
  {
   "cell_type": "code",
   "execution_count": 9,
   "metadata": {},
   "outputs": [
    {
     "name": "stdout",
     "output_type": "stream",
     "text": [
      "3.1415926535\n",
      "  8979323846\n",
      "  2643383279\n"
     ]
    }
   ],
   "source": [
    "from pathlib import Path\n",
    "path = Path(\"pi_digits.txt\")\n",
    "contents = path.read_text().rstrip()\n",
    "lines = contents.splitlines()\n",
    "for line in lines:\n",
    "    print(line)"
   ]
  },
  {
   "cell_type": "code",
   "execution_count": 10,
   "metadata": {},
   "outputs": [
    {
     "name": "stdout",
     "output_type": "stream",
     "text": [
      "23\n",
      "32\n",
      "21\n",
      "30\n",
      "36\n",
      "39\n",
      "40\n",
      "32\n",
      "30\n"
     ]
    }
   ],
   "source": [
    "path = Path(r\"c:/users/danhaya/arewads/python-programming-fellowship/02_python-lessons/weather.txt\")\n",
    "contents = path.read_text().rstrip()\n",
    "lines = contents.splitlines()\n",
    "for line in lines:\n",
    "    print(line)"
   ]
  },
  {
   "cell_type": "markdown",
   "metadata": {},
   "source": [
    "# Working with file contents"
   ]
  },
  {
   "cell_type": "code",
   "execution_count": 11,
   "metadata": {},
   "outputs": [
    {
     "name": "stdout",
     "output_type": "stream",
     "text": [
      "73.4\n",
      "89.6\n",
      "69.8\n",
      "86.0\n",
      "96.8\n",
      "102.2\n",
      "104.0\n",
      "89.6\n",
      "86.0\n"
     ]
    }
   ],
   "source": [
    "def farenheit(temp_in_f):\n",
    "    temp_in_f = float(temp_in_f)\n",
    "    temp_in_f = temp_in_f * 9/5 +32\n",
    "    return temp_in_f\n",
    "\n",
    "path = Path(r\"c:/users/danhaya/arewads/python-programming-fellowship/02_python-lessons/weather.txt\")\n",
    "contents = path.read_text().rstrip()\n",
    "lines = contents.splitlines()\n",
    "for line in lines:\n",
    "    print(farenheit(line))"
   ]
  },
  {
   "cell_type": "code",
   "execution_count": 16,
   "metadata": {},
   "outputs": [
    {
     "name": "stdout",
     "output_type": "stream",
     "text": [
      "3.1415926535  8979323846  2643383279\n",
      "36\n"
     ]
    }
   ],
   "source": [
    "#from pathlib import Path\n",
    "path = Path('pi_digits.txt')\n",
    "contents = path.read_text()\n",
    "lines = contents.splitlines()\n",
    "pi_string = ''\n",
    "for line in lines:\n",
    "    pi_string += line\n",
    "print(pi_string)\n",
    "print(len(pi_string))"
   ]
  },
  {
   "cell_type": "code",
   "execution_count": 17,
   "metadata": {},
   "outputs": [
    {
     "name": "stdout",
     "output_type": "stream",
     "text": [
      "3.1415926535  8979323846  2643383279\n",
      "36\n"
     ]
    }
   ],
   "source": [
    "path = Path(\"pi_digits.txt\")\n",
    "contents = path.read_text()\n",
    "lines = contents.splitlines()\n",
    "pi_string = ''\n",
    "for line in lines:\n",
    "    pi_string += line\n",
    "print(pi_string)\n",
    "print(len(pi_string))"
   ]
  },
  {
   "cell_type": "code",
   "execution_count": 20,
   "metadata": {},
   "outputs": [
    {
     "name": "stdout",
     "output_type": "stream",
     "text": [
      "3.141592653589793238462643383279\n",
      "32\n"
     ]
    }
   ],
   "source": [
    "path = Path(\"pi_digits.txt\")\n",
    "contents = path.read_text()\n",
    "lines = contents.splitlines()\n",
    "pi_string = ''\n",
    "for line in lines:\n",
    "    pi_string += line.lstrip()\n",
    "print(pi_string)\n",
    "print(len(pi_string))"
   ]
  },
  {
   "cell_type": "markdown",
   "metadata": {},
   "source": [
    "# working with large files"
   ]
  },
  {
   "cell_type": "code",
   "execution_count": 22,
   "metadata": {},
   "outputs": [
    {
     "name": "stdout",
     "output_type": "stream",
     "text": [
      "3.14159265358979323846264338327950288419716939937510...\n",
      "1000002\n"
     ]
    }
   ],
   "source": [
    "from pathlib import Path\n",
    "#path = Path(r\"c:users/danhaya/arewads/python-programming-fellowship/02_python-lessons/pi_million_digits.txt\")\n",
    "path = Path(r\"c:/users/danhaya/arewads/python-programming-fellowship/02_python-lessons/pi_million_digits.txt\")\n",
    "contents = path.read_text()\n",
    "lines = contents.splitlines()\n",
    "pi_string = ''\n",
    "for line in lines:\n",
    "    pi_string += line.lstrip()\n",
    "print(f\"{pi_string[:52]}...\")\n",
    "print(len(pi_string))"
   ]
  },
  {
   "cell_type": "code",
   "execution_count": 23,
   "metadata": {},
   "outputs": [
    {
     "name": "stdout",
     "output_type": "stream",
     "text": [
      "Sorry, your date of birth was not found\n"
     ]
    }
   ],
   "source": [
    "from pathlib import Path\n",
    "path = Path(r\"c:/users/danhaya/arewads/python-programming-fellowship/02_python-lessons/pi_million_digits.txt\")\n",
    "contents = path.read_text()\n",
    "lines = contents.splitlines()\n",
    "pi_string = ''\n",
    "for line in lines:\n",
    "    pi_string += line.lstrip()\n",
    "\n",
    "user_input = input(\"Enter your date of birth in this format ddmmyy: \")\n",
    "if user_input is pi_string:\n",
    "    print(\"Your date of birth was found in pi value\")\n",
    "else:\n",
    "    print(\"Sorry, your date of birth was not found\")"
   ]
  },
  {
   "cell_type": "markdown",
   "metadata": {},
   "source": [
    "# writing a file"
   ]
  },
  {
   "cell_type": "code",
   "execution_count": 24,
   "metadata": {},
   "outputs": [],
   "source": [
    "from pathlib import Path\n",
    "path = Path(\"programming.txt\")\n",
    "contents = path.write_text(\"I love python programming\")"
   ]
  },
  {
   "cell_type": "code",
   "execution_count": 25,
   "metadata": {},
   "outputs": [
    {
     "data": {
      "text/plain": [
       "105"
      ]
     },
     "execution_count": 25,
     "metadata": {},
     "output_type": "execute_result"
    }
   ],
   "source": [
    "# writing multiple lines\n",
    "\n",
    "contents = \"Thank you arewa data science.\\n\"\n",
    "contents += \"This fellowship is the life changing opportunity.\\n\"\n",
    "contents += \"I love python programming\"\n",
    "path = Path(\"programming2.txt\")\n",
    "path.write_text(contents)"
   ]
  },
  {
   "cell_type": "code",
   "execution_count": null,
   "metadata": {},
   "outputs": [],
   "source": []
  }
 ],
 "metadata": {
  "kernelspec": {
   "display_name": "base",
   "language": "python",
   "name": "python3"
  },
  "language_info": {
   "codemirror_mode": {
    "name": "ipython",
    "version": 3
   },
   "file_extension": ".py",
   "mimetype": "text/x-python",
   "name": "python",
   "nbconvert_exporter": "python",
   "pygments_lexer": "ipython3",
   "version": "3.12.3"
  }
 },
 "nbformat": 4,
 "nbformat_minor": 2
}

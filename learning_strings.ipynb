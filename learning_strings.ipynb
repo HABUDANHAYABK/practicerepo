{
 "cells": [
  {
   "cell_type": "markdown",
   "metadata": {},
   "source": [
    "# PRACTICE FILE FOR WORKING WITH STRING\n",
    "\n",
    "_I created this file to practice working with string in python._"
   ]
  },
  {
   "cell_type": "markdown",
   "metadata": {},
   "source": [
    "## concatination "
   ]
  },
  {
   "cell_type": "code",
   "execution_count": 7,
   "metadata": {},
   "outputs": [
    {
     "name": "stdout",
     "output_type": "stream",
     "text": [
      "Abubakar Danhaya\n"
     ]
    }
   ],
   "source": [
    "first_name = \"abubakar\"\n",
    "last_name = \"danhaya\"\n",
    "space = ' '\n",
    "full_name = first_name + space + last_name\n",
    "print(full_name.title())"
   ]
  },
  {
   "cell_type": "markdown",
   "metadata": {},
   "source": [
    "## New line"
   ]
  },
  {
   "cell_type": "code",
   "execution_count": 9,
   "metadata": {},
   "outputs": [
    {
     "name": "stdout",
     "output_type": "stream",
     "text": [
      "I hope you are enjoying your life.\n",
      "Are  you?\n"
     ]
    }
   ],
   "source": [
    "print(\"I hope you are enjoying your life.\\nAre  you?\")"
   ]
  },
  {
   "cell_type": "markdown",
   "metadata": {},
   "source": [
    "# NEW TAB"
   ]
  },
  {
   "cell_type": "code",
   "execution_count": 12,
   "metadata": {},
   "outputs": [
    {
     "name": "stdout",
     "output_type": "stream",
     "text": [
      "Days\tTopics\tExercises\n",
      "Monday\tIntroductions\t20\n",
      "Tuesday\tStrings\t20\n",
      "Wednesday\tOperators\t20\n",
      "Thursday\tList\t20\n",
      "Friday\tDictionaries\t20\n"
     ]
    }
   ],
   "source": [
    "print('Days\\tTopics\\tExercises')\n",
    "\n",
    "print('Monday\\tIntroductions\\t20')\n",
    "print('Tuesday\\tStrings\\t20')\n",
    "print('Wednesday\\tOperators\\t20')\n",
    "print('Thursday\\tList\\t20')\n",
    "print('Friday\\tDictionaries\\t20')\n",
    "\n"
   ]
  },
  {
   "cell_type": "markdown",
   "metadata": {},
   "source": [
    "# WRITE IN BLACKISH SYMBOLS \\\\"
   ]
  },
  {
   "cell_type": "code",
   "execution_count": 16,
   "metadata": {},
   "outputs": [
    {
     "name": "stdout",
     "output_type": "stream",
     "text": [
      "I love my mother,\"Aisha Danhaya\"\n"
     ]
    }
   ],
   "source": [
    "print('I love my mother,\\\"Aisha Danhaya\\\"')"
   ]
  },
  {
   "cell_type": "code",
   "execution_count": 17,
   "metadata": {},
   "outputs": [
    {
     "name": "stdout",
     "output_type": "stream",
     "text": [
      "In every programming language it starts with \"Hello, World!\"\n"
     ]
    }
   ],
   "source": [
    "print('In every programming language it starts with \\\"Hello, World!\\\"')"
   ]
  },
  {
   "cell_type": "code",
   "execution_count": 18,
   "metadata": {},
   "outputs": [
    {
     "name": "stdout",
     "output_type": "stream",
     "text": [
      "I am Asabeneh Yetayeh. I teach Python\n"
     ]
    }
   ],
   "source": [
    "# Strings only\n",
    "first_name = 'Asabeneh'\n",
    "last_name = 'Yetayeh'\n",
    "language = 'Python'\n",
    "formated_string = 'I am %s %s. I teach %s' %(first_name, last_name, language)\n",
    "print(formated_string)"
   ]
  },
  {
   "cell_type": "code",
   "execution_count": 2,
   "metadata": {},
   "outputs": [
    {
     "name": "stdout",
     "output_type": "stream",
     "text": [
      "I am abubakar muhammad. I teach mathematics\n"
     ]
    }
   ],
   "source": [
    "surname = 'muhammad'\n",
    "first_name = 'abubakar'\n",
    "subject = 'mathematics'\n",
    "\n",
    "formated_string = 'I am %s %s. I teach %s' %(first_name, surname, subject)\n",
    "print(formated_string)"
   ]
  },
  {
   "cell_type": "code",
   "execution_count": 6,
   "metadata": {},
   "outputs": [
    {
     "name": "stdout",
     "output_type": "stream",
     "text": [
      "My Name Is Messi From Fc Barcelona, I Am The 8 Times Awards Winner.\n"
     ]
    }
   ],
   "source": [
    "player_name = \"messi\"\n",
    "team = \"FC Barcelona\"\n",
    "num_of_awards = \"8 times\"\n",
    "\n",
    "formated_string = 'My name is %s from %s, I am the %s awards winner.' %(player_name, team, num_of_awards)\n",
    "print(formated_string.title())\n"
   ]
  },
  {
   "cell_type": "code",
   "execution_count": 11,
   "metadata": {},
   "outputs": [
    {
     "name": "stdout",
     "output_type": "stream",
     "text": [
      "My name is Adam from Al-Manar Academy and I am 7 years.\n"
     ]
    }
   ],
   "source": [
    "pupil_name = 'adam'\n",
    "school = 'al-manar academy'\n",
    "age = '7'\n",
    "\n",
    "formated_string = 'My name is {} from {} and I am {} years.' .format(pupil_name.title(), school.title(), age)\n",
    "print(formated_string)"
   ]
  },
  {
   "cell_type": "code",
   "execution_count": 12,
   "metadata": {},
   "outputs": [
    {
     "name": "stdout",
     "output_type": "stream",
     "text": [
      "my name is adam from al-manar academy and I am 7 years old.\n"
     ]
    }
   ],
   "source": [
    "print(f'my name is {pupil_name} from {school} and I am {age} years old.')"
   ]
  },
  {
   "cell_type": "code",
   "execution_count": null,
   "metadata": {},
   "outputs": [],
   "source": []
  }
 ],
 "metadata": {
  "kernelspec": {
   "display_name": "base",
   "language": "python",
   "name": "python3"
  },
  "language_info": {
   "codemirror_mode": {
    "name": "ipython",
    "version": 3
   },
   "file_extension": ".py",
   "mimetype": "text/x-python",
   "name": "python",
   "nbconvert_exporter": "python",
   "pygments_lexer": "ipython3",
   "version": "3.12.3"
  }
 },
 "nbformat": 4,
 "nbformat_minor": 2
}

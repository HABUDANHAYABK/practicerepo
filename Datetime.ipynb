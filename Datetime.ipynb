{
 "cells": [
  {
   "cell_type": "markdown",
   "metadata": {},
   "source": [
    "# Date and time  practice file\n"
   ]
  },
  {
   "cell_type": "code",
   "execution_count": 2,
   "metadata": {},
   "outputs": [
    {
     "name": "stdout",
     "output_type": "stream",
     "text": [
      "2025-01-28 02:53:50.813277\n",
      "28 1 2025 2 53\n",
      "timestamp 1738029230.813277\n",
      "28/1/2025\n"
     ]
    }
   ],
   "source": [
    "from datetime import datetime\n",
    "now = datetime.now()\n",
    "print(now)\n",
    "day = now.day\n",
    "month = now.month\n",
    "year = now.year\n",
    "hour = now.hour\n",
    "minute = now.minute\n",
    "timestamp = now.timestamp()\n",
    "print(day, month, year, hour, minute)\n",
    "print('timestamp', timestamp)\n",
    "print(f'{day}/{month}/{year}')"
   ]
  },
  {
   "cell_type": "code",
   "execution_count": 3,
   "metadata": {},
   "outputs": [
    {
     "name": "stdout",
     "output_type": "stream",
     "text": [
      "2025-01-28 03:00:15.241454\n",
      "28 1 2025\n",
      "28/1/2025\n"
     ]
    }
   ],
   "source": [
    "# formating date\n",
    "from datetime import datetime\n",
    "new_year = datetime.now()\n",
    "print(new_year)\n",
    "\n",
    "day = new_year.day\n",
    "month = new_year.month\n",
    "year = new_year.year\n",
    "print(day, month, year)\n",
    "print(f\"{day}/{month}/{year}\")"
   ]
  },
  {
   "cell_type": "markdown",
   "metadata": {},
   "source": [
    "## Formatting date time using strftime method"
   ]
  },
  {
   "cell_type": "code",
   "execution_count": 6,
   "metadata": {},
   "outputs": [
    {
     "name": "stdout",
     "output_type": "stream",
     "text": [
      "time: 03:08:57\n",
      "Time one: 01/28/2025\n",
      "Time Two: 01/28/25, 03:08:57\n"
     ]
    }
   ],
   "source": [
    "from datetime import datetime\n",
    "now = datetime.now()\n",
    "t = now.strftime(\"%H:%M:%S\")\n",
    "print(\"time:\", t)\n",
    "time_one = now.strftime(\"%m/%d/%Y\")\n",
    "print(\"Time one:\", time_one)\n",
    "time_two = now.strftime(\"%m/%d/%y, %H:%M:%S\")\n",
    "print(\"Time Two:\", time_two)"
   ]
  },
  {
   "cell_type": "markdown",
   "metadata": {},
   "source": [
    "## string to time using strptime"
   ]
  },
  {
   "cell_type": "code",
   "execution_count": 9,
   "metadata": {},
   "outputs": [
    {
     "name": "stdout",
     "output_type": "stream",
     "text": [
      "Date String = 5 December, 2019\n",
      "date_object = 2019-12-05 00:00:00\n"
     ]
    }
   ],
   "source": [
    "from datetime import datetime\n",
    "date_string = \"5 December, 2019\"\n",
    "print(\"Date String =\", date_string)\n",
    "date_object = datetime.strptime(date_string, \"%d %B, %Y\")\n",
    "print(\"date_object =\", date_object)\n"
   ]
  },
  {
   "cell_type": "markdown",
   "metadata": {},
   "source": [
    "## using date from datetime"
   ]
  },
  {
   "cell_type": "code",
   "execution_count": 13,
   "metadata": {},
   "outputs": [
    {
     "name": "stdout",
     "output_type": "stream",
     "text": [
      "2025-01-28\n",
      "current date: 2025-01-28\n",
      "current day: 28\n",
      "current month: 1\n",
      "current year: 2025\n"
     ]
    }
   ],
   "source": [
    "from datetime import date\n",
    "d = date(2025, 1, 28)\n",
    "print(d)\n",
    "print(\"current date:\", d.today())\n",
    "\n",
    "today = date.today()\n",
    "print(\"current day:\", today.day)\n",
    "print(\"current month:\", today.month)\n",
    "print(\"current year:\", today.year)"
   ]
  },
  {
   "cell_type": "markdown",
   "metadata": {},
   "source": [
    "## time objects to represent time"
   ]
  },
  {
   "cell_type": "code",
   "execution_count": 14,
   "metadata": {},
   "outputs": [
    {
     "name": "stdout",
     "output_type": "stream",
     "text": [
      "a 00:00:00\n",
      "b 10:30:50\n",
      "c 10:30:50\n"
     ]
    }
   ],
   "source": [
    "from datetime import time\n",
    "a = time()\n",
    "print(\"a\", a)\n",
    "b = time(10, 30, 50)\n",
    "print(\"b\", b)\n",
    "c = time(hour=10, minute=30, second=50)\n",
    "print(\"c\", c)"
   ]
  },
  {
   "cell_type": "markdown",
   "metadata": {},
   "source": [
    "## Difference between two points"
   ]
  },
  {
   "cell_type": "code",
   "execution_count": 18,
   "metadata": {},
   "outputs": [
    {
     "name": "stdout",
     "output_type": "stream",
     "text": [
      "Time left for new year is 338 days, 0:00:00\n"
     ]
    }
   ],
   "source": [
    "from datetime import datetime\n",
    "today = date(year=2025, month=1, day=28)\n",
    "new_year = date(year=2026, month=1, day=1)\n",
    "time_left_for_new_year = new_year - today\n",
    "print(\"Time left for new year is\", time_left_for_new_year)"
   ]
  },
  {
   "cell_type": "code",
   "execution_count": null,
   "metadata": {},
   "outputs": [],
   "source": []
  }
 ],
 "metadata": {
  "kernelspec": {
   "display_name": "base",
   "language": "python",
   "name": "python3"
  },
  "language_info": {
   "codemirror_mode": {
    "name": "ipython",
    "version": 3
   },
   "file_extension": ".py",
   "mimetype": "text/x-python",
   "name": "python",
   "nbconvert_exporter": "python",
   "pygments_lexer": "ipython3",
   "version": "3.12.3"
  }
 },
 "nbformat": 4,
 "nbformat_minor": 2
}

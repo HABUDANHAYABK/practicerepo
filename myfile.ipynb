{
 "cells": [
  {
   "cell_type": "markdown",
   "metadata": {},
   "source": [
    "# my practice file"
   ]
  },
  {
   "cell_type": "code",
   "execution_count": 1,
   "metadata": {},
   "outputs": [
    {
     "name": "stdout",
     "output_type": "stream",
     "text": [
      "Abubakar Muhammad Danhaya\n"
     ]
    }
   ],
   "source": [
    "def formatted_name(first_name, last_name, middle_name):\n",
    "    \"\"\"Return my full name neatly formatted \"\"\"\n",
    "    if middle_name:\n",
    "       full_name = f\"{first_name} {middle_name} {last_name}\"\n",
    "    else:\n",
    "        full_name = f\"{first_name} {last_name}\"\n",
    "    return full_name.title()\n",
    "my_info = formatted_name(first_name='abubakar', middle_name='muhammad', last_name='danhaya')\n",
    "print(my_info)"
   ]
  },
  {
   "cell_type": "code",
   "execution_count": 5,
   "metadata": {},
   "outputs": [
    {
     "name": "stdout",
     "output_type": "stream",
     "text": [
      "Abubakar Danhaya\n"
     ]
    }
   ],
   "source": [
    "def formatted_name(first_name, last_name, middle_name=''):\n",
    "    \"\"\"Return my full name neatly formatted \"\"\"\n",
    "    if middle_name:\n",
    "       full_name = f\"{first_name} {middle_name} {last_name}\"\n",
    "    else:\n",
    "        full_name = f\"{first_name} {last_name}\"\n",
    "    return full_name.title()\n",
    "my_info = formatted_name(first_name='abubakar', last_name='danhaya')\n",
    "print(my_info)"
   ]
  },
  {
   "cell_type": "markdown",
   "metadata": {},
   "source": [
    "## Building a dictionary"
   ]
  },
  {
   "cell_type": "code",
   "execution_count": 7,
   "metadata": {},
   "outputs": [
    {
     "name": "stdout",
     "output_type": "stream",
     "text": [
      "{'first': 'jimi', 'last': 'hendrix'}\n"
     ]
    }
   ],
   "source": [
    "def build_person(first_name, last_name):\n",
    "    \"\"\"Return a dictionary of information about a person.\"\"\"\n",
    "    person = {'first': first_name, 'last': last_name}\n",
    "    return person\n",
    "\n",
    "musician = build_person('jimi', 'hendrix')\n",
    "print(musician)"
   ]
  },
  {
   "cell_type": "code",
   "execution_count": 8,
   "metadata": {},
   "outputs": [
    {
     "name": "stdout",
     "output_type": "stream",
     "text": [
      "{'first': 'abubakar', 'last': 'danhaya'}\n"
     ]
    }
   ],
   "source": [
    "def build_mydict(first_name, last_name):\n",
    "    \"\"\"Return my dictionary of personal data\"\"\"\n",
    "    mydict = {'first': first_name, 'last': last_name}\n",
    "    return mydict\n",
    "my_bio = build_mydict('abubakar', 'danhaya')\n",
    "print(my_bio)"
   ]
  },
  {
   "cell_type": "code",
   "execution_count": 9,
   "metadata": {},
   "outputs": [
    {
     "name": "stdout",
     "output_type": "stream",
     "text": [
      "{'first': 'jimi', 'last': 'hendrix', 'age': 27}\n"
     ]
    }
   ],
   "source": [
    "def build_person(first_name, last_name, age=None):\n",
    "    \"\"\"Return a dictionary of information about a person.\"\"\"\n",
    "    person = {'first': first_name, 'last': last_name}\n",
    "    if age:\n",
    "        person['age'] = age\n",
    "    return person\n",
    "\n",
    "musician = build_person('jimi', 'hendrix', age=27)\n",
    "print(musician)"
   ]
  },
  {
   "cell_type": "code",
   "execution_count": 10,
   "metadata": {},
   "outputs": [
    {
     "name": "stdout",
     "output_type": "stream",
     "text": [
      "{'first': 'abubakar', 'last': 'danhaya', 'age': 26}\n"
     ]
    }
   ],
   "source": [
    "def build_mydict(first_name, last_name, age=None):\n",
    "    \"\"\"returndictionary of my personal data\"\"\"\n",
    "    my_dict = {'first': first_name, 'last': last_name}\n",
    "    if age:\n",
    "        my_dict['age'] = age\n",
    "    return my_dict\n",
    "\n",
    "my_data = build_mydict('abubakar', 'danhaya', 26)\n",
    "print(my_data)"
   ]
  },
  {
   "cell_type": "markdown",
   "metadata": {},
   "source": [
    "## function with while loop"
   ]
  },
  {
   "cell_type": "code",
   "execution_count": 11,
   "metadata": {},
   "outputs": [
    {
     "name": "stdout",
     "output_type": "stream",
     "text": [
      "\n",
      "Please tell your name\n",
      "Enter 'q' to cancel at any time\n",
      "\n",
      "Please tell your name\n",
      "Enter 'q' to cancel at any time\n",
      "\n",
      "Please tell your name\n",
      "Enter 'q' to cancel at any time\n",
      "\n",
      "Please tell your name\n",
      "Enter 'q' to cancel at any time\n",
      "Q Yakubu\n"
     ]
    }
   ],
   "source": [
    "def formatted_name(first_name, last_name):\n",
    "    \"\"\"Return full name neatly formatted\"\"\"\n",
    "    full_name = f\"{first_name} {last_name}\"\n",
    "    return full_name.title()\n",
    "while True:\n",
    "    print(\"\\nPlease tell your name\")\n",
    "    print(\"Enter 'q' to cancel at any time\")\n",
    "    f_name = input(\"Enter your first name\")\n",
    "    if f_name == 'q':\n",
    "        break\n",
    "    l_name = input(\"Enter your last name\")\n",
    "    if l_name == 'q':\n",
    "        break\n",
    "my_name = formatted_name(f_name, l_name)\n",
    "print(my_name)"
   ]
  },
  {
   "cell_type": "markdown",
   "metadata": {},
   "source": [
    "# passing a list"
   ]
  },
  {
   "cell_type": "code",
   "execution_count": 14,
   "metadata": {},
   "outputs": [
    {
     "name": "stdout",
     "output_type": "stream",
     "text": [
      "Hello, Hannah!\n",
      "Hello, Ty!\n",
      "Hello, Margot!\n"
     ]
    }
   ],
   "source": [
    "def greet_users(names):\n",
    "    \"\"\"Print a simple greeting to each user in the list.\"\"\"\n",
    "    for name in names:\n",
    "        msg = f\"Hello, {name.title()}!\"\n",
    "        print(msg)\n",
    "\n",
    "usernames = ['hannah', 'ty', 'margot']\n",
    "greet_users(usernames)"
   ]
  },
  {
   "cell_type": "code",
   "execution_count": 15,
   "metadata": {},
   "outputs": [
    {
     "name": "stdout",
     "output_type": "stream",
     "text": [
      "Hello, Abubakar!\n",
      "Hello, Sani!\n",
      "Hello, Mike!\n",
      "Hello, Daniel!\n",
      "Hello, Muhammad!\n",
      "Hello, John!\n"
     ]
    }
   ],
   "source": [
    "def greet_user(names):\n",
    "    \"\"\"Display simple greeting\"\"\"\n",
    "    for name in names:\n",
    "        msg = f\"Hello, {name.title()}!\"\n",
    "        print(msg)\n",
    "         \n",
    "\n",
    "usernames = ['abubakar', 'sani', 'mike', 'daniel', 'muhammad', 'john']\n",
    "greet_user(usernames)\n",
    "\n"
   ]
  },
  {
   "cell_type": "markdown",
   "metadata": {},
   "source": [
    "# modifying a list in a function"
   ]
  },
  {
   "cell_type": "code",
   "execution_count": 16,
   "metadata": {},
   "outputs": [
    {
     "name": "stdout",
     "output_type": "stream",
     "text": [
      "printing model: sticker\n",
      "printing model: phone case\n",
      "printing model: T-shirt\n",
      "\n",
      "The following are completed models:\n",
      "sticker\n",
      "phone case\n",
      "T-shirt\n"
     ]
    }
   ],
   "source": [
    "unprinted_design = ['T-shirt', 'phone case', 'sticker']\n",
    "completed_models = []\n",
    "# let me use while loop to append\n",
    "while unprinted_design:\n",
    "    current_model = unprinted_design.pop()\n",
    "    print(f\"printing model: {current_model}\")\n",
    "    completed_models.append(current_model)\n",
    "# Displaying all the models\n",
    "print(\"\\nThe following are completed models:\")\n",
    "for completed_model in completed_models:\n",
    "    print(completed_model)"
   ]
  },
  {
   "cell_type": "code",
   "execution_count": null,
   "metadata": {},
   "outputs": [],
   "source": []
  }
 ],
 "metadata": {
  "kernelspec": {
   "display_name": "base",
   "language": "python",
   "name": "python3"
  },
  "language_info": {
   "codemirror_mode": {
    "name": "ipython",
    "version": 3
   },
   "file_extension": ".py",
   "mimetype": "text/x-python",
   "name": "python",
   "nbconvert_exporter": "python",
   "pygments_lexer": "ipython3",
   "version": "3.12.3"
  }
 },
 "nbformat": 4,
 "nbformat_minor": 2
}

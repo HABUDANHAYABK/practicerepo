{
 "cells": [
  {
   "cell_type": "markdown",
   "metadata": {},
   "source": [
    "##WORKING WITH THE LIST\n",
    "\n",
    "_In this jupiter file, i practice how to work and navigate with list in python programming_"
   ]
  },
  {
   "cell_type": "code",
   "execution_count": null,
   "metadata": {},
   "outputs": [],
   "source": [
    "# list of items you want to at store\n",
    "items = [\"milk\", \"eggs\", \"bread\", \"butter\"]"
   ]
  },
  {
   "cell_type": "code",
   "execution_count": null,
   "metadata": {},
   "outputs": [],
   "source": [
    "class_Attendence = [\"adam\", \"musa\", \"ibrahim\", \"saleh\"]"
   ]
  },
  {
   "cell_type": "code",
   "execution_count": null,
   "metadata": {},
   "outputs": [
    {
     "name": "stdout",
     "output_type": "stream",
     "text": [
      "['trek', 'cannondale', 'redline', 'specialized']\n"
     ]
    }
   ],
   "source": [
    "# a list that contains a few kinds of bicycles\n",
    "bicycles = ['trek', 'cannondale', 'redline', 'specialized']\n",
    "print(bicycles)"
   ]
  },
  {
   "cell_type": "code",
   "execution_count": 4,
   "metadata": {},
   "outputs": [
    {
     "data": {
      "text/plain": [
       "list"
      ]
     },
     "execution_count": 4,
     "metadata": {},
     "output_type": "execute_result"
    }
   ],
   "source": [
    "#to know the type of variable you are working with\n",
    "type(bicycles)"
   ]
  },
  {
   "cell_type": "code",
   "execution_count": 5,
   "metadata": {},
   "outputs": [
    {
     "name": "stdout",
     "output_type": "stream",
     "text": [
      "trek\n"
     ]
    }
   ],
   "source": [
    "print(bicycles[0])"
   ]
  },
  {
   "cell_type": "code",
   "execution_count": 6,
   "metadata": {},
   "outputs": [
    {
     "name": "stdout",
     "output_type": "stream",
     "text": [
      "specialized\n"
     ]
    }
   ],
   "source": [
    "print(bicycles[-1])"
   ]
  },
  {
   "cell_type": "code",
   "execution_count": 9,
   "metadata": {},
   "outputs": [
    {
     "name": "stdout",
     "output_type": "stream",
     "text": [
      "Cannondale\n"
     ]
    }
   ],
   "source": [
    "#to capitalize first letter\n",
    "bicycles = ['trek', 'cannondale', 'redline', 'specialized']\n",
    "print(bicycles[1].title())"
   ]
  },
  {
   "cell_type": "code",
   "execution_count": 12,
   "metadata": {},
   "outputs": [
    {
     "name": "stdout",
     "output_type": "stream",
     "text": [
      "TREK\n",
      "trek\n"
     ]
    }
   ],
   "source": [
    "print(bicycles[0].upper())\n",
    "print(bicycles[0].lower())"
   ]
  },
  {
   "cell_type": "code",
   "execution_count": 17,
   "metadata": {},
   "outputs": [
    {
     "name": "stdout",
     "output_type": "stream",
     "text": [
      "My best friend was Sageer\n",
      "My close friend was ABBALELE.\n"
     ]
    }
   ],
   "source": [
    "friends = [\"sageer\", \"ata\", \"abbalele\", \"jaye\"]\n",
    "message1= f\"My best friend was {friends[0].title()}\"\n",
    "print(message1)\n",
    "\n",
    "message2 = f\"My close friend was {friends[2].upper()}.\"\n",
    "print(message2)"
   ]
  },
  {
   "cell_type": "code",
   "execution_count": 19,
   "metadata": {},
   "outputs": [
    {
     "name": "stdout",
     "output_type": "stream",
     "text": [
      "EYE GLASSES\n"
     ]
    }
   ],
   "source": [
    "#working with larger list\n",
    "\n",
    "items = [\"pen\",\"eye glasses\",4.5, \"book\", 12,'{1,\"Arewa\",\"DS\",[1,2,3]}']\n",
    "print(items[1].upper())"
   ]
  },
  {
   "cell_type": "code",
   "execution_count": 21,
   "metadata": {},
   "outputs": [
    {
     "name": "stdout",
     "output_type": "stream",
     "text": [
      "A\n"
     ]
    }
   ],
   "source": [
    "print(items[5][4])"
   ]
  },
  {
   "cell_type": "markdown",
   "metadata": {},
   "source": [
    "#CHANGING, ADDING AND REMOVING ITEMS IN A LIST"
   ]
  },
  {
   "cell_type": "code",
   "execution_count": 22,
   "metadata": {},
   "outputs": [
    {
     "name": "stdout",
     "output_type": "stream",
     "text": [
      "['honda', 'yamaha', 'suzuki']\n"
     ]
    }
   ],
   "source": [
    "motorcycles = ['honda', 'yamaha', 'suzuki']\n",
    "print(motorcycles)"
   ]
  },
  {
   "cell_type": "code",
   "execution_count": 23,
   "metadata": {},
   "outputs": [
    {
     "data": {
      "text/plain": [
       "list"
      ]
     },
     "execution_count": 23,
     "metadata": {},
     "output_type": "execute_result"
    }
   ],
   "source": [
    "type(motorcycles)"
   ]
  },
  {
   "cell_type": "code",
   "execution_count": 24,
   "metadata": {},
   "outputs": [
    {
     "name": "stdout",
     "output_type": "stream",
     "text": [
      "BEFORE UPDATE  ##### ['honda', 'yamaha', 'suzuki']\n",
      "AFTER UPDATE  --->  ['ducati', 'yamaha', 'suzuki']\n"
     ]
    }
   ],
   "source": [
    "# to access the first position of the List, we need to use motorcycles[0]\n",
    "# Notice the index is zero (0)\n",
    "print(\"BEFORE UPDATE\",motorcycles, sep=\"  ##### \")\n",
    "motorcycles[0] = 'ducati' # the means, locate this position and store `ducati` in it. Just do it!!!\n",
    "# Now let's print the list again\n",
    "print(\"AFTER UPDATE\",motorcycles, sep=\"  --->  \")"
   ]
  },
  {
   "cell_type": "code",
   "execution_count": 25,
   "metadata": {},
   "outputs": [
    {
     "name": "stdout",
     "output_type": "stream",
     "text": [
      "['honda', 'yamaha', 'suzuki']\n",
      "['honda', 'yamaha', 'suzuki', 'lifan']\n"
     ]
    }
   ],
   "source": [
    "#Adding element to a list\n",
    "motorcycles = ['honda', 'yamaha', 'suzuki']\n",
    "print(motorcycles)\n",
    "\n",
    "motorcycles.append(\"lifan\")\n",
    "print(motorcycles)\n"
   ]
  },
  {
   "cell_type": "code",
   "execution_count": 26,
   "metadata": {},
   "outputs": [
    {
     "name": "stdout",
     "output_type": "stream",
     "text": [
      "['sageer', 'ata', 'abbalele', 'jaye', 'umar aboyi']\n"
     ]
    }
   ],
   "source": [
    "friends = [\"sageer\", \"ata\", \"abbalele\", \"jaye\"]\n",
    "friends.append(\"umar aboyi\")\n",
    "print(friends)"
   ]
  },
  {
   "cell_type": "code",
   "execution_count": 28,
   "metadata": {},
   "outputs": [
    {
     "name": "stdout",
     "output_type": "stream",
     "text": [
      "[]\n",
      "['daniel']\n",
      "['daniel', 'bash']\n",
      "['daniel', 'bash', 'makole']\n",
      "['daniel', 'bash', 'makole', 'sadis']\n",
      "You Are Highly Welcome\n"
     ]
    }
   ],
   "source": [
    "class_Attendence = []\n",
    "print(class_Attendence)\n",
    "class_Attendence.append(\"daniel\")\n",
    "print(class_Attendence)\n",
    "\n",
    "class_Attendence.append(\"bash\")\n",
    "print(class_Attendence)\n",
    "\n",
    "class_Attendence.append(\"makole\")\n",
    "print(class_Attendence)\n",
    "class_Attendence.append(\"sadis\")\n",
    "print(class_Attendence)\n",
    "welcome_message = \"you are highly welcome\"\n",
    "print(welcome_message.title())"
   ]
  },
  {
   "cell_type": "code",
   "execution_count": 29,
   "metadata": {},
   "outputs": [
    {
     "name": "stdout",
     "output_type": "stream",
     "text": [
      "['daniel', 'bash', 'makole', 'sadis']\n"
     ]
    }
   ],
   "source": [
    "print(class_Attendence)"
   ]
  },
  {
   "cell_type": "code",
   "execution_count": 31,
   "metadata": {},
   "outputs": [
    {
     "name": "stdout",
     "output_type": "stream",
     "text": [
      "['monitor', 'daniel', 'bash', 'makole', 'sadis']\n"
     ]
    }
   ],
   "source": [
    "class_Attendence.insert(0, 'monitor')\n",
    "print(class_Attendence)"
   ]
  },
  {
   "cell_type": "markdown",
   "metadata": {},
   "source": [
    "#Removing items in a list"
   ]
  },
  {
   "cell_type": "code",
   "execution_count": 35,
   "metadata": {},
   "outputs": [
    {
     "name": "stdout",
     "output_type": "stream",
     "text": [
      "['khadija', 'saddiqa', 'aisha']\n"
     ]
    }
   ],
   "source": [
    "wives = [\"amina\", \"khadija\", \"saddiqa\", \"aisha\"]\n",
    "type(wives)\n",
    "del wives[0]\n",
    "print(wives)"
   ]
  },
  {
   "cell_type": "code",
   "execution_count": 38,
   "metadata": {},
   "outputs": [
    {
     "name": "stdout",
     "output_type": "stream",
     "text": [
      "My beloved wife was Aisha\n"
     ]
    }
   ],
   "source": [
    "wives = [\"amina\", \"khadija\", \"saddiqa\", \"aisha\"]\n",
    "print(f\"My beloved wife was {wives.pop().title()}\")"
   ]
  },
  {
   "cell_type": "markdown",
   "metadata": {},
   "source": [
    "#Organizing a list"
   ]
  },
  {
   "cell_type": "code",
   "execution_count": 39,
   "metadata": {},
   "outputs": [
    {
     "name": "stdout",
     "output_type": "stream",
     "text": [
      "[2, 1, 10, 6, 3, 9, 7, 8, 4, 5, 11]\n"
     ]
    }
   ],
   "source": [
    "random_numbers = [2, 1, 10, 6, 3, 9 , 7, 8, 4, 5, 11]\n",
    "\n",
    "print(random_numbers)"
   ]
  },
  {
   "cell_type": "code",
   "execution_count": 40,
   "metadata": {},
   "outputs": [
    {
     "name": "stdout",
     "output_type": "stream",
     "text": [
      "[1, 2, 3, 4, 5, 6, 7, 8, 9, 10, 11]\n"
     ]
    }
   ],
   "source": [
    "random_numbers.sort()\n",
    "print(random_numbers)"
   ]
  },
  {
   "cell_type": "code",
   "execution_count": 41,
   "metadata": {},
   "outputs": [
    {
     "name": "stdout",
     "output_type": "stream",
     "text": [
      "['audi', 'bmw', 'subaru', 'toyota']\n"
     ]
    }
   ],
   "source": [
    "cars = ['bmw', 'audi', 'toyota', 'subaru']\n",
    "cars.sort()\n",
    "print(cars)"
   ]
  },
  {
   "cell_type": "code",
   "execution_count": 42,
   "metadata": {},
   "outputs": [
    {
     "data": {
      "text/plain": [
       "['audi', 'bmw', 'subaru', 'toyota']"
      ]
     },
     "execution_count": 42,
     "metadata": {},
     "output_type": "execute_result"
    }
   ],
   "source": [
    "cars"
   ]
  },
  {
   "cell_type": "code",
   "execution_count": 45,
   "metadata": {},
   "outputs": [
    {
     "name": "stdout",
     "output_type": "stream",
     "text": [
      "['toyota', 'subaru', 'bmw', 'audi']\n"
     ]
    }
   ],
   "source": [
    "cars.sort(reverse=True)\n",
    "print(cars)"
   ]
  },
  {
   "cell_type": "code",
   "execution_count": 46,
   "metadata": {},
   "outputs": [
    {
     "data": {
      "text/plain": [
       "['toyota', 'subaru', 'bmw', 'audi']"
      ]
     },
     "execution_count": 46,
     "metadata": {},
     "output_type": "execute_result"
    }
   ],
   "source": [
    "cars"
   ]
  },
  {
   "cell_type": "code",
   "execution_count": 54,
   "metadata": {},
   "outputs": [
    {
     "name": "stdout",
     "output_type": "stream",
     "text": [
      "['peguit', 'honda', 'toyota']\n"
     ]
    }
   ],
   "source": [
    "cars = [\"toyota\", \"honda\", \"peguit\"]\n",
    "cars.reverse()\n",
    "print(cars)"
   ]
  },
  {
   "cell_type": "code",
   "execution_count": 53,
   "metadata": {},
   "outputs": [
    {
     "name": "stdout",
     "output_type": "stream",
     "text": [
      "['bmw', 'audi', 'toyota', 'subaru']\n",
      "['subaru', 'toyota', 'audi', 'bmw']\n"
     ]
    }
   ],
   "source": [
    "cars = ['bmw', 'audi', 'toyota', 'subaru']\n",
    "print(cars)\n",
    "cars.reverse()\n",
    "print(cars)"
   ]
  },
  {
   "cell_type": "code",
   "execution_count": null,
   "metadata": {},
   "outputs": [],
   "source": []
  }
 ],
 "metadata": {
  "kernelspec": {
   "display_name": "base",
   "language": "python",
   "name": "python3"
  },
  "language_info": {
   "codemirror_mode": {
    "name": "ipython",
    "version": 3
   },
   "file_extension": ".py",
   "mimetype": "text/x-python",
   "name": "python",
   "nbconvert_exporter": "python",
   "pygments_lexer": "ipython3",
   "version": "3.12.3"
  }
 },
 "nbformat": 4,
 "nbformat_minor": 2
}

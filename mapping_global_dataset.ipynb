{
 "cells": [
  {
   "cell_type": "markdown",
   "metadata": {},
   "source": [
    "# MAPPING GLOBAL DATASET PRACTICE FILE"
   ]
  },
  {
   "cell_type": "markdown",
   "metadata": {},
   "source": [
    "## Exploring file contents"
   ]
  },
  {
   "cell_type": "code",
   "execution_count": null,
   "metadata": {},
   "outputs": [
    {
     "name": "stdout",
     "output_type": "stream",
     "text": [
      "160\n",
      "[1.6, 1.6, 2.2, 3.7, 2.92000008, 1.4, 4.6, 4.5, 1.9, 1.8]\n"
     ]
    }
   ],
   "source": [
    "from pathlib import Path\n",
    "import json\n",
    "\n",
    "# Read data as a string and convert it to python object\n",
    "path = Path(r\"c:/users/danhaya/arewads/practicerepo/eq_data/eq_data_1_day_m1.geojson\")\n",
    "contents = path.read_text()\n",
    "all_eq_data = json.loads(contents)\n",
    "\n",
    "# create more readable version of the dats file.\n",
    "path = Path(r\"c:/users/danhaya/arewads/practicerepo/eq_data/eq_data_1_day_m1.geojson\")\n",
    "readable_contents = json.dumps(all_eq_data, indent=4)\n",
    "path.write_text(readable_contents)\n",
    "\n",
    "#Examine all the earthquakes in the dataset\n",
    "all_eq_dicts = all_eq_data['features']\n",
    "print(len(all_eq_dicts))\n",
    "\n",
    "#Extracting magnitudes\n",
    "mags = []\n",
    "for eq_dict in all_eq_dicts:\n",
    "    mag = eq_dict['properties']['mag']\n",
    "    mags.append(mag)\n",
    "print(mags[:10])"
   ]
  },
  {
   "cell_type": "code",
   "execution_count": null,
   "metadata": {},
   "outputs": [],
   "source": [
    "#extracting location data"
   ]
  },
  {
   "cell_type": "code",
   "execution_count": 4,
   "metadata": {},
   "outputs": [
    {
     "name": "stdout",
     "output_type": "stream",
     "text": [
      "[1.6, 1.6, 2.2, 3.7, 2.92000008, 1.4, 4.6, 4.5, 1.9, 1.8]\n",
      "[-150.7585, -153.4716, -148.7531, -159.6267, -155.248336791992]\n",
      "[61.7591, 59.3152, 63.1633, 54.5612, 18.7551670074463]\n"
     ]
    }
   ],
   "source": [
    "mags, lons, lats = [], [], []\n",
    "for eq_dict in all_eq_dicts:\n",
    "    mag = eq_dict['properties']['mag']\n",
    "    lon = eq_dict['geometry']['coordinates'][0]\n",
    "    lat = eq_dict['geometry']['coordinates'][1]\n",
    "    mags.append(mag)\n",
    "    lons.append(lon)\n",
    "    lats.append(lat)\n",
    "print(mags[:10])\n",
    "print(lons[:5])\n",
    "print(lats[:5])"
   ]
  },
  {
   "cell_type": "code",
   "execution_count": null,
   "metadata": {},
   "outputs": [],
   "source": []
  }
 ],
 "metadata": {
  "kernelspec": {
   "display_name": "base",
   "language": "python",
   "name": "python3"
  },
  "language_info": {
   "codemirror_mode": {
    "name": "ipython",
    "version": 3
   },
   "file_extension": ".py",
   "mimetype": "text/x-python",
   "name": "python",
   "nbconvert_exporter": "python",
   "pygments_lexer": "ipython3",
   "version": "3.12.3"
  }
 },
 "nbformat": 4,
 "nbformat_minor": 2
}
